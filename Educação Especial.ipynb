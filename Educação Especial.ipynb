{
 "cells": [
  {
   "cell_type": "markdown",
   "metadata": {},
   "source": [
    "**Microdados de Matrículas - SME-SP** <br>\n",
    "1) Arrumando formato das colunas de data (DT_IN_MAT e DT_FIM_MAT) <br>\n",
    "2) Selecionando data específica (31/03/2018) <br>\n",
    "3) Agrupando por turma e perfil de deficiência"
   ]
  },
  {
   "cell_type": "code",
   "execution_count": 8,
   "metadata": {},
   "outputs": [],
   "source": [
    "# Importando bibliotecas: Pandas como pd, Numpy como np e Matplotlib como plt\n",
    "import pandas as pd\n",
    "import numpy as np\n",
    "import matplotlib.pyplot as plt\n",
    "import plotly.express as px"
   ]
  },
  {
   "cell_type": "code",
   "execution_count": 24,
   "metadata": {},
   "outputs": [],
   "source": [
    "# Definindo colunas que serão importadas\n",
    "colunas = [\"CD_UNIDADE_EDUCACAO\",\"NOME_DISTRITO\", \"CD_SETOR\", \"TIPO_ESCOLA\",\n",
    "                          \"NOME_ESCOLA\", \"DRE\", \"CD_INEP_ESCOLA\", \"SITUACAO_ESCOLA\", \"CD_TURMA\",\n",
    "                          \"CD_TURNO\",  \"DESC_TURNO\", \"CD_SERIE\", \"DESC_SERIE\",\n",
    "                          \"MODALIDADE\", \"MODALIDADE_SEGMENTO\", \"TURMA_ESCOL\",\n",
    "                          \"NOME_TURMA\", \"HORA_IN_TURMA\", \"HORA_FIM_TURMA\",\n",
    "                          \"DESC_PERIODICIDADE_TURMA\", \"CD_ETAPA_ENSINO\", \"DESC_ETAPA_ENSINO\",\n",
    "                          \"CD_CICLO_ENSINO\", \"DESC_CICLO_ENSINO\", \"CD_TIPO_TURMA\",\n",
    "                          \"DESC_TIPO_TURMA\", \"CD_TIPO_PROGRAMA\", \"DESC_TIPO_PROGRAMA\",\n",
    "                          \"DUR_DIA_TURMA\", \"DUR_DIA_HORA\", \"DUR_DIA_MIN\",\n",
    "                          \"DUR_SEMAN_TURMA\", \"DUR_SEM_HORA\", \"DUR_SEM_MIN\", \"QTD_DIAS_SEMAN_TURMA\",\n",
    "                          \"X_SEMANA\", \"SEG\", \"TER\", \"QUA\", \"QUI\", \"SEX\", \"SAB\", \"DOM\", \"CD_ALUNO_SME\", \"NEE_ALT_HAB\",\n",
    "                          \"DEF__AUTISMO\", \"DEF__SURDEZ_LEVE\", \"DEF__SURDEZ_SEV\",\n",
    "                          \"DEF__INTELECT\", \"DEF__MULTIPLA\", \"DEF__CEGUEIRA\",\n",
    "                          \"DEF__BAIXA_VISAO\", \"DEF__SURDO_CEG\", \"DEF__TRANST_DES_INF\",\n",
    "                          \"DEF__SINDR_ASPER\", \"DEF__SINDR_RETT\", \"DEF__FIS_N_CADEIR\",\n",
    "                          \"DEF__FIS_CADEIR\", \"DEF__N_POSSUI\", \"DT_IN_MAT\", \"DT_FIM_MAT\"]"
   ]
  },
  {
   "cell_type": "code",
   "execution_count": 25,
   "metadata": {},
   "outputs": [],
   "source": [
    "# Lendo arquivo de Matrículas (com colunas específicas)\n",
    "df = pd.read_csv(\"Microdados_EOL_Matriculas_2018.csv\", sep = \"|\", usecols= colunas, encoding = \"unicode_escape\")"
   ]
  },
  {
   "cell_type": "code",
   "execution_count": 26,
   "metadata": {},
   "outputs": [],
   "source": [
    "# Retirando espaços vazios (\" \") que estão sobrando em todo o DataFrame\n",
    "df = df.applymap(lambda x: x.strip() if isinstance(x, str) else x)"
   ]
  },
  {
   "cell_type": "code",
   "execution_count": 27,
   "metadata": {},
   "outputs": [],
   "source": [
    "# Transformando formato da variável em data\n",
    "df['DT_IN_MAT'] = pd.to_datetime(df.DT_IN_MAT)\n",
    "df['DT_FIM_MAT'] = pd.to_datetime(df.DT_FIM_MAT)"
   ]
  },
  {
   "cell_type": "code",
   "execution_count": 28,
   "metadata": {},
   "outputs": [],
   "source": [
    "# Definindo data a ser analisada\n",
    "ts = pd.to_datetime('5/31/2018')"
   ]
  },
  {
   "cell_type": "code",
   "execution_count": 29,
   "metadata": {},
   "outputs": [],
   "source": [
    "# Definindo período a ser analisado\n",
    "df = df.loc[df.DT_IN_MAT <= ts, :]\n",
    "df = df.loc[df.DT_FIM_MAT >= ts, :]"
   ]
  },
  {
   "cell_type": "code",
   "execution_count": 29,
   "metadata": {},
   "outputs": [],
   "source": [
    "# Selecionando escolas ATIVAS\n",
    "# df = df.loc[df['SITUACAO_ESCOLA'] == 'ATIVA']"
   ]
  },
  {
   "cell_type": "code",
   "execution_count": 80,
   "metadata": {
    "scrolled": true
   },
   "outputs": [
    {
     "data": {
      "text/html": [
       "<div>\n",
       "<style scoped>\n",
       "    .dataframe tbody tr th:only-of-type {\n",
       "        vertical-align: middle;\n",
       "    }\n",
       "\n",
       "    .dataframe tbody tr th {\n",
       "        vertical-align: top;\n",
       "    }\n",
       "\n",
       "    .dataframe thead th {\n",
       "        text-align: right;\n",
       "    }\n",
       "</style>\n",
       "<table border=\"1\" class=\"dataframe\">\n",
       "  <thead>\n",
       "    <tr style=\"text-align: right;\">\n",
       "      <th></th>\n",
       "      <th>DEF__N_POSSUI</th>\n",
       "      <th>Contagem</th>\n",
       "    </tr>\n",
       "  </thead>\n",
       "  <tbody>\n",
       "    <tr>\n",
       "      <th>0</th>\n",
       "      <td>0</td>\n",
       "      <td>20896</td>\n",
       "    </tr>\n",
       "  </tbody>\n",
       "</table>\n",
       "</div>"
      ],
      "text/plain": [
       "   DEF__N_POSSUI  Contagem\n",
       "0              0     20896"
      ]
     },
     "execution_count": 80,
     "metadata": {},
     "output_type": "execute_result"
    }
   ],
   "source": [
    "# Quantidade de alunos ÚNICOS da Educação Especial\n",
    "df2 = df.groupby('DEF__N_POSSUI').CD_ALUNO_SME.nunique().to_frame('Contagem').reset_index()\n",
    "df2[df2.DEF__N_POSSUI == 0]"
   ]
  },
  {
   "cell_type": "code",
   "execution_count": 81,
   "metadata": {},
   "outputs": [
    {
     "data": {
      "text/html": [
       "<div>\n",
       "<style scoped>\n",
       "    .dataframe tbody tr th:only-of-type {\n",
       "        vertical-align: middle;\n",
       "    }\n",
       "\n",
       "    .dataframe tbody tr th {\n",
       "        vertical-align: top;\n",
       "    }\n",
       "\n",
       "    .dataframe thead th {\n",
       "        text-align: right;\n",
       "    }\n",
       "</style>\n",
       "<table border=\"1\" class=\"dataframe\">\n",
       "  <thead>\n",
       "    <tr style=\"text-align: right;\">\n",
       "      <th></th>\n",
       "      <th>DEF__N_POSSUI</th>\n",
       "      <th>Contagem</th>\n",
       "      <th>%</th>\n",
       "    </tr>\n",
       "  </thead>\n",
       "  <tbody>\n",
       "    <tr>\n",
       "      <th>0</th>\n",
       "      <td>0</td>\n",
       "      <td>20896</td>\n",
       "      <td>2.0</td>\n",
       "    </tr>\n",
       "    <tr>\n",
       "      <th>1</th>\n",
       "      <td>1</td>\n",
       "      <td>1043119</td>\n",
       "      <td>98.0</td>\n",
       "    </tr>\n",
       "  </tbody>\n",
       "</table>\n",
       "</div>"
      ],
      "text/plain": [
       "   DEF__N_POSSUI  Contagem     %\n",
       "0              0     20896   2.0\n",
       "1              1   1043119  98.0"
      ]
     },
     "execution_count": 81,
     "metadata": {},
     "output_type": "execute_result"
    }
   ],
   "source": [
    "# Quantidade de alunos ÚNICOS da Educação Especial\n",
    "df2 = df.groupby('DEF__N_POSSUI').CD_ALUNO_SME.nunique().to_frame('Contagem').reset_index()\n",
    "df2['%'] = (df2['Contagem']/df2['Contagem'].sum()*100).round(1)\n",
    "df2"
   ]
  },
  {
   "cell_type": "code",
   "execution_count": null,
   "metadata": {},
   "outputs": [],
   "source": [
    "# Quantidade de alunos ÚNICOS da Educação Especial\n",
    "df3 = df.groupby(['MODALIDADE','DEF__N_POSSUI']).CD_ALUNO_SME.nunique().to_frame('Contagem').reset_index()\n",
    "df3.set_index(['MODALIDADE','DEF__N_POSSUI'], inplace = True)\n",
    "df3['%'] = df3.groupby(level=0).transform(lambda x: (x / x.sum()).round(2))\n",
    "df3"
   ]
  },
  {
   "cell_type": "code",
   "execution_count": null,
   "metadata": {},
   "outputs": [],
   "source": []
  },
  {
   "cell_type": "code",
   "execution_count": 9,
   "metadata": {},
   "outputs": [],
   "source": [
    "# Selecionando TIPO_ESCOLA: EMEF, CEU EMEF, EMEI e CEU EMEI\n",
    "df2 = df.loc[(df['TIPO_ESCOLA'] == 'EMEF') | (df['TIPO_ESCOLA'] == 'CEU EMEF') | \n",
    "            (df['TIPO_ESCOLA'] == 'EMEI') | (df['TIPO_ESCOLA'] == 'CEU EMEI')]"
   ]
  },
  {
   "cell_type": "code",
   "execution_count": 10,
   "metadata": {},
   "outputs": [],
   "source": [
    "# Selecionando MODALIDADE: FUND e PRE\n",
    "df2 = df2.loc[(df2['MODALIDADE'] == 'FUND') | (df2['MODALIDADE'] == 'PRE')]"
   ]
  },
  {
   "cell_type": "code",
   "execution_count": 11,
   "metadata": {},
   "outputs": [
    {
     "data": {
      "text/html": [
       "<div>\n",
       "<style scoped>\n",
       "    .dataframe tbody tr th:only-of-type {\n",
       "        vertical-align: middle;\n",
       "    }\n",
       "\n",
       "    .dataframe tbody tr th {\n",
       "        vertical-align: top;\n",
       "    }\n",
       "\n",
       "    .dataframe thead th {\n",
       "        text-align: right;\n",
       "    }\n",
       "</style>\n",
       "<table border=\"1\" class=\"dataframe\">\n",
       "  <thead>\n",
       "    <tr style=\"text-align: right;\">\n",
       "      <th></th>\n",
       "      <th>CD_UNIDADE_EDUCACAO</th>\n",
       "      <th>NOME_DISTRITO</th>\n",
       "      <th>CD_SETOR</th>\n",
       "      <th>TIPO_ESCOLA</th>\n",
       "      <th>NOME_ESCOLA</th>\n",
       "      <th>DRE</th>\n",
       "      <th>CD_INEP_ESCOLA</th>\n",
       "      <th>CD_TURMA</th>\n",
       "      <th>CD_TURNO</th>\n",
       "      <th>DESC_TURNO</th>\n",
       "      <th>...</th>\n",
       "      <th>DEF__BAIXA_VISAO</th>\n",
       "      <th>DEF__SURDO_CEG</th>\n",
       "      <th>DEF__TRANST_DES_INF</th>\n",
       "      <th>DEF__SINDR_ASPER</th>\n",
       "      <th>DEF__SINDR_RETT</th>\n",
       "      <th>DEF__FIS_N_CADEIR</th>\n",
       "      <th>DEF__FIS_CADEIR</th>\n",
       "      <th>DEF__N_POSSUI</th>\n",
       "      <th>DT_IN_MAT</th>\n",
       "      <th>DT_FIM_MAT</th>\n",
       "    </tr>\n",
       "    <tr>\n",
       "      <th>SITUACAO_ESCOLA</th>\n",
       "      <th></th>\n",
       "      <th></th>\n",
       "      <th></th>\n",
       "      <th></th>\n",
       "      <th></th>\n",
       "      <th></th>\n",
       "      <th></th>\n",
       "      <th></th>\n",
       "      <th></th>\n",
       "      <th></th>\n",
       "      <th></th>\n",
       "      <th></th>\n",
       "      <th></th>\n",
       "      <th></th>\n",
       "      <th></th>\n",
       "      <th></th>\n",
       "      <th></th>\n",
       "      <th></th>\n",
       "      <th></th>\n",
       "      <th></th>\n",
       "      <th></th>\n",
       "    </tr>\n",
       "  </thead>\n",
       "  <tbody>\n",
       "    <tr>\n",
       "      <th>ATIVA</th>\n",
       "      <td>634970</td>\n",
       "      <td>634970</td>\n",
       "      <td>634970</td>\n",
       "      <td>634970</td>\n",
       "      <td>634970</td>\n",
       "      <td>634970</td>\n",
       "      <td>634970</td>\n",
       "      <td>634970</td>\n",
       "      <td>634970</td>\n",
       "      <td>634970</td>\n",
       "      <td>...</td>\n",
       "      <td>634970</td>\n",
       "      <td>634970</td>\n",
       "      <td>634970</td>\n",
       "      <td>634970</td>\n",
       "      <td>634970</td>\n",
       "      <td>634970</td>\n",
       "      <td>634970</td>\n",
       "      <td>634970</td>\n",
       "      <td>634970</td>\n",
       "      <td>634970</td>\n",
       "    </tr>\n",
       "  </tbody>\n",
       "</table>\n",
       "<p>1 rows × 59 columns</p>\n",
       "</div>"
      ],
      "text/plain": [
       "                 CD_UNIDADE_EDUCACAO  NOME_DISTRITO  CD_SETOR  TIPO_ESCOLA  \\\n",
       "SITUACAO_ESCOLA                                                              \n",
       "ATIVA                         634970         634970    634970       634970   \n",
       "\n",
       "                 NOME_ESCOLA     DRE  CD_INEP_ESCOLA  CD_TURMA  CD_TURNO  \\\n",
       "SITUACAO_ESCOLA                                                            \n",
       "ATIVA                 634970  634970          634970    634970    634970   \n",
       "\n",
       "                 DESC_TURNO  ...  DEF__BAIXA_VISAO  DEF__SURDO_CEG  \\\n",
       "SITUACAO_ESCOLA              ...                                     \n",
       "ATIVA                634970  ...            634970          634970   \n",
       "\n",
       "                 DEF__TRANST_DES_INF  DEF__SINDR_ASPER  DEF__SINDR_RETT  \\\n",
       "SITUACAO_ESCOLA                                                           \n",
       "ATIVA                         634970            634970           634970   \n",
       "\n",
       "                 DEF__FIS_N_CADEIR  DEF__FIS_CADEIR  DEF__N_POSSUI  DT_IN_MAT  \\\n",
       "SITUACAO_ESCOLA                                                                 \n",
       "ATIVA                       634970           634970         634970     634970   \n",
       "\n",
       "                 DT_FIM_MAT  \n",
       "SITUACAO_ESCOLA              \n",
       "ATIVA                634970  \n",
       "\n",
       "[1 rows x 59 columns]"
      ]
     },
     "execution_count": 11,
     "metadata": {},
     "output_type": "execute_result"
    }
   ],
   "source": [
    "# Contando quantas turmas estavam em escolas Ativas\n",
    "df2.groupby('SITUACAO_ESCOLA').count()"
   ]
  },
  {
   "cell_type": "code",
   "execution_count": 12,
   "metadata": {},
   "outputs": [],
   "source": [
    "# Definindo colunas que serão agrupadas\n",
    "colunas_agrupadas = [\"CD_TURMA\", \"TIPO_ESCOLA\", \"NEE_ALT_HAB\", \n",
    "                          \"DEF__AUTISMO\", \"DEF__SURDEZ_LEVE\", \"DEF__SURDEZ_SEV\",\n",
    "                          \"DEF__INTELECT\", \"DEF__MULTIPLA\", \"DEF__CEGUEIRA\",\n",
    "                          \"DEF__BAIXA_VISAO\", \"DEF__SURDO_CEG\", \"DEF__TRANST_DES_INF\",\n",
    "                          \"DEF__SINDR_ASPER\", \"DEF__SINDR_RETT\", \"DEF__FIS_N_CADEIR\",\n",
    "                          \"DEF__FIS_CADEIR\", \"DEF__N_POSSUI\"]"
   ]
  },
  {
   "cell_type": "code",
   "execution_count": 13,
   "metadata": {},
   "outputs": [],
   "source": [
    "# Agrupando, contando, nomeando a contagem e transformando tudo em um novo DataFrame\n",
    "df3 = df2.groupby(colunas_agrupadas).size().to_frame('Contagem').reset_index()"
   ]
  },
  {
   "cell_type": "code",
   "execution_count": 15,
   "metadata": {},
   "outputs": [
    {
     "data": {
      "text/html": [
       "<div>\n",
       "<style scoped>\n",
       "    .dataframe tbody tr th:only-of-type {\n",
       "        vertical-align: middle;\n",
       "    }\n",
       "\n",
       "    .dataframe tbody tr th {\n",
       "        vertical-align: top;\n",
       "    }\n",
       "\n",
       "    .dataframe thead th {\n",
       "        text-align: right;\n",
       "    }\n",
       "</style>\n",
       "<table border=\"1\" class=\"dataframe\">\n",
       "  <thead>\n",
       "    <tr style=\"text-align: right;\">\n",
       "      <th></th>\n",
       "      <th>CD_TURMA</th>\n",
       "      <th>TIPO_ESCOLA</th>\n",
       "      <th>NEE_ALT_HAB</th>\n",
       "      <th>DEF__AUTISMO</th>\n",
       "      <th>DEF__SURDEZ_LEVE</th>\n",
       "      <th>DEF__SURDEZ_SEV</th>\n",
       "      <th>DEF__INTELECT</th>\n",
       "      <th>DEF__MULTIPLA</th>\n",
       "      <th>DEF__CEGUEIRA</th>\n",
       "      <th>DEF__BAIXA_VISAO</th>\n",
       "      <th>DEF__SURDO_CEG</th>\n",
       "      <th>DEF__TRANST_DES_INF</th>\n",
       "      <th>DEF__SINDR_ASPER</th>\n",
       "      <th>DEF__SINDR_RETT</th>\n",
       "      <th>DEF__FIS_N_CADEIR</th>\n",
       "      <th>DEF__FIS_CADEIR</th>\n",
       "      <th>DEF__N_POSSUI</th>\n",
       "      <th>Contagem</th>\n",
       "    </tr>\n",
       "  </thead>\n",
       "  <tbody>\n",
       "    <tr>\n",
       "      <th>0</th>\n",
       "      <td>1861353</td>\n",
       "      <td>EMEF</td>\n",
       "      <td>0</td>\n",
       "      <td>0</td>\n",
       "      <td>0</td>\n",
       "      <td>0</td>\n",
       "      <td>0</td>\n",
       "      <td>0</td>\n",
       "      <td>0</td>\n",
       "      <td>0</td>\n",
       "      <td>0</td>\n",
       "      <td>0</td>\n",
       "      <td>0</td>\n",
       "      <td>0</td>\n",
       "      <td>0</td>\n",
       "      <td>0</td>\n",
       "      <td>1</td>\n",
       "      <td>30</td>\n",
       "    </tr>\n",
       "    <tr>\n",
       "      <th>1</th>\n",
       "      <td>1861354</td>\n",
       "      <td>EMEF</td>\n",
       "      <td>0</td>\n",
       "      <td>0</td>\n",
       "      <td>0</td>\n",
       "      <td>0</td>\n",
       "      <td>0</td>\n",
       "      <td>0</td>\n",
       "      <td>0</td>\n",
       "      <td>0</td>\n",
       "      <td>0</td>\n",
       "      <td>0</td>\n",
       "      <td>0</td>\n",
       "      <td>0</td>\n",
       "      <td>0</td>\n",
       "      <td>0</td>\n",
       "      <td>1</td>\n",
       "      <td>29</td>\n",
       "    </tr>\n",
       "    <tr>\n",
       "      <th>2</th>\n",
       "      <td>1861355</td>\n",
       "      <td>EMEF</td>\n",
       "      <td>0</td>\n",
       "      <td>0</td>\n",
       "      <td>0</td>\n",
       "      <td>0</td>\n",
       "      <td>0</td>\n",
       "      <td>0</td>\n",
       "      <td>0</td>\n",
       "      <td>0</td>\n",
       "      <td>0</td>\n",
       "      <td>0</td>\n",
       "      <td>0</td>\n",
       "      <td>0</td>\n",
       "      <td>0</td>\n",
       "      <td>0</td>\n",
       "      <td>1</td>\n",
       "      <td>27</td>\n",
       "    </tr>\n",
       "    <tr>\n",
       "      <th>3</th>\n",
       "      <td>1861355</td>\n",
       "      <td>EMEF</td>\n",
       "      <td>0</td>\n",
       "      <td>1</td>\n",
       "      <td>0</td>\n",
       "      <td>0</td>\n",
       "      <td>1</td>\n",
       "      <td>0</td>\n",
       "      <td>0</td>\n",
       "      <td>0</td>\n",
       "      <td>0</td>\n",
       "      <td>0</td>\n",
       "      <td>0</td>\n",
       "      <td>0</td>\n",
       "      <td>0</td>\n",
       "      <td>0</td>\n",
       "      <td>0</td>\n",
       "      <td>1</td>\n",
       "    </tr>\n",
       "    <tr>\n",
       "      <th>4</th>\n",
       "      <td>1861356</td>\n",
       "      <td>EMEF</td>\n",
       "      <td>0</td>\n",
       "      <td>0</td>\n",
       "      <td>0</td>\n",
       "      <td>0</td>\n",
       "      <td>0</td>\n",
       "      <td>0</td>\n",
       "      <td>0</td>\n",
       "      <td>0</td>\n",
       "      <td>0</td>\n",
       "      <td>0</td>\n",
       "      <td>0</td>\n",
       "      <td>0</td>\n",
       "      <td>0</td>\n",
       "      <td>0</td>\n",
       "      <td>1</td>\n",
       "      <td>30</td>\n",
       "    </tr>\n",
       "  </tbody>\n",
       "</table>\n",
       "</div>"
      ],
      "text/plain": [
       "   CD_TURMA TIPO_ESCOLA  NEE_ALT_HAB  DEF__AUTISMO  DEF__SURDEZ_LEVE  \\\n",
       "0   1861353        EMEF            0             0                 0   \n",
       "1   1861354        EMEF            0             0                 0   \n",
       "2   1861355        EMEF            0             0                 0   \n",
       "3   1861355        EMEF            0             1                 0   \n",
       "4   1861356        EMEF            0             0                 0   \n",
       "\n",
       "   DEF__SURDEZ_SEV  DEF__INTELECT  DEF__MULTIPLA  DEF__CEGUEIRA  \\\n",
       "0                0              0              0              0   \n",
       "1                0              0              0              0   \n",
       "2                0              0              0              0   \n",
       "3                0              1              0              0   \n",
       "4                0              0              0              0   \n",
       "\n",
       "   DEF__BAIXA_VISAO  DEF__SURDO_CEG  DEF__TRANST_DES_INF  DEF__SINDR_ASPER  \\\n",
       "0                 0               0                    0                 0   \n",
       "1                 0               0                    0                 0   \n",
       "2                 0               0                    0                 0   \n",
       "3                 0               0                    0                 0   \n",
       "4                 0               0                    0                 0   \n",
       "\n",
       "   DEF__SINDR_RETT  DEF__FIS_N_CADEIR  DEF__FIS_CADEIR  DEF__N_POSSUI  \\\n",
       "0                0                  0                0              1   \n",
       "1                0                  0                0              1   \n",
       "2                0                  0                0              1   \n",
       "3                0                  0                0              0   \n",
       "4                0                  0                0              1   \n",
       "\n",
       "   Contagem  \n",
       "0        30  \n",
       "1        29  \n",
       "2        27  \n",
       "3         1  \n",
       "4        30  "
      ]
     },
     "execution_count": 15,
     "metadata": {},
     "output_type": "execute_result"
    }
   ],
   "source": [
    "df3.head()"
   ]
  },
  {
   "cell_type": "markdown",
   "metadata": {},
   "source": [
    "**.size()** do DataFrameGroupBy retorna um objeto tipo Série, não um DataFrame. <br>\n",
    "**.to_frame()** transforma apenas a coluna .size() em DataFrame. Obs: Pode-se nomear a coluna colocando o nome dentro do argumento. <br>\n",
    "**.reset_index()** transforma em um DataFrame com todos as colunas originais + a de contagem.<br>\n",
    "https://stackoverflow.com/questions/17995024/how-to-assign-a-name-to-the-a-size-column"
   ]
  },
  {
   "cell_type": "code",
   "execution_count": 161,
   "metadata": {},
   "outputs": [],
   "source": [
    "# Verificando o total de alunos com deficiência\n",
    "df5 = df2.groupby(\"DEF__N_POSSUI\")[\"Contagem\"].sum().to_frame('Contagem').reset_index()"
   ]
  },
  {
   "cell_type": "code",
   "execution_count": 162,
   "metadata": {},
   "outputs": [],
   "source": [
    "df5['%']= (df5['Contagem']/df5['Contagem'].sum()*100).round(1)"
   ]
  },
  {
   "cell_type": "code",
   "execution_count": 163,
   "metadata": {
    "scrolled": true
   },
   "outputs": [
    {
     "data": {
      "text/html": [
       "<div>\n",
       "<style scoped>\n",
       "    .dataframe tbody tr th:only-of-type {\n",
       "        vertical-align: middle;\n",
       "    }\n",
       "\n",
       "    .dataframe tbody tr th {\n",
       "        vertical-align: top;\n",
       "    }\n",
       "\n",
       "    .dataframe thead th {\n",
       "        text-align: right;\n",
       "    }\n",
       "</style>\n",
       "<table border=\"1\" class=\"dataframe\">\n",
       "  <thead>\n",
       "    <tr style=\"text-align: right;\">\n",
       "      <th></th>\n",
       "      <th>DEF__N_POSSUI</th>\n",
       "      <th>Contagem</th>\n",
       "      <th>%</th>\n",
       "    </tr>\n",
       "  </thead>\n",
       "  <tbody>\n",
       "    <tr>\n",
       "      <th>0</th>\n",
       "      <td>0</td>\n",
       "      <td>15313</td>\n",
       "      <td>2.4</td>\n",
       "    </tr>\n",
       "    <tr>\n",
       "      <th>1</th>\n",
       "      <td>1</td>\n",
       "      <td>619657</td>\n",
       "      <td>97.6</td>\n",
       "    </tr>\n",
       "  </tbody>\n",
       "</table>\n",
       "</div>"
      ],
      "text/plain": [
       "   DEF__N_POSSUI  Contagem     %\n",
       "0              0     15313   2.4\n",
       "1              1    619657  97.6"
      ]
     },
     "execution_count": 163,
     "metadata": {},
     "output_type": "execute_result"
    }
   ],
   "source": [
    "df5"
   ]
  },
  {
   "cell_type": "code",
   "execution_count": 113,
   "metadata": {},
   "outputs": [
    {
     "data": {
      "text/plain": [
       "21176"
      ]
     },
     "execution_count": 113,
     "metadata": {},
     "output_type": "execute_result"
    }
   ],
   "source": [
    "# Contando quantidade de Turmas (únicas)\n",
    "df2[\"CD_TURMA\"].value_counts().count()"
   ]
  },
  {
   "cell_type": "code",
   "execution_count": 134,
   "metadata": {
    "scrolled": true
   },
   "outputs": [
    {
     "data": {
      "text/plain": [
       "DEF__N_POSSUI\n",
       "0     1.1\n",
       "1    29.3\n",
       "Name: Contagem, dtype: float64"
      ]
     },
     "execution_count": 134,
     "metadata": {},
     "output_type": "execute_result"
    }
   ],
   "source": [
    "# Verificando a média de PcD e ñ-PcD por TURMA\n",
    "df2.groupby(\"DEF__N_POSSUI\")[\"Contagem\"].mean().round(1)"
   ]
  },
  {
   "cell_type": "code",
   "execution_count": 147,
   "metadata": {},
   "outputs": [
    {
     "data": {
      "text/plain": [
       "'30.0'"
      ]
     },
     "execution_count": 147,
     "metadata": {},
     "output_type": "execute_result"
    }
   ],
   "source": [
    "# Verificando a média de alunos por TURMA (contando todos)\n",
    "format(df2.groupby(\"CD_TURMA\")[\"Contagem\"].sum().mean(),'.1f')"
   ]
  },
  {
   "cell_type": "code",
   "execution_count": 132,
   "metadata": {
    "scrolled": true
   },
   "outputs": [],
   "source": [
    "# Criando base de alunos por TURMA por TIPO_ESCOLA (contando todos)\n",
    "df3 = df2.groupby([\"CD_TURMA\", \"TIPO_ESCOLA\"])[\"Contagem\"].sum().to_frame('Contagem').reset_index()"
   ]
  },
  {
   "cell_type": "code",
   "execution_count": 133,
   "metadata": {
    "scrolled": true
   },
   "outputs": [
    {
     "data": {
      "text/plain": [
       "TIPO_ESCOLA\n",
       "CEU EMEF    30.5\n",
       "CEU EMEI    32.4\n",
       "EMEF        29.2\n",
       "EMEI        31.3\n",
       "Name: Contagem, dtype: float64"
      ]
     },
     "execution_count": 133,
     "metadata": {},
     "output_type": "execute_result"
    }
   ],
   "source": [
    "# Verificando a média de alunos por TURMA por TIPO_ESCOLA (contando todos)\n",
    "df3.groupby([\"TIPO_ESCOLA\"])[\"Contagem\"].mean().round(1)"
   ]
  },
  {
   "cell_type": "code",
   "execution_count": 122,
   "metadata": {},
   "outputs": [
    {
     "data": {
      "image/png": "[encoded data removed]",
      "text/plain": [
       "<Figure size 432x288 with 1 Axes>"
      ]
     },
     "metadata": {
      "needs_background": "light"
     },
     "output_type": "display_data"
    }
   ],
   "source": [
    "histogram_example = plt.hist(df3['Contagem'], bins=15)\n",
    "plt.show()"
   ]
  }
 ],
 "metadata": {
  "kernelspec": {
   "display_name": "Python 3",
   "language": "python",
   "name": "python3"
  },
  "language_info": {
   "codemirror_mode": {
    "name": "ipython",
    "version": 3
   },
   "file_extension": ".py",
   "mimetype": "text/x-python",
   "name": "python",
   "nbconvert_exporter": "python",
   "pygments_lexer": "ipython3",
   "version": "3.7.3"
  }
 },
 "nbformat": 4,
 "nbformat_minor": 2
}
